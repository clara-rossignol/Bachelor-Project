{
 "cells": [
  {
   "cell_type": "code",
   "execution_count": 14,
   "id": "9d157b3c",
   "metadata": {},
   "outputs": [],
   "source": [
    "import numpy as np\n",
    "import pandas as pd\n",
    "import math\n",
    "import deeplabcut\n",
    "from sklearn.cluster import DBSCAN\n",
    "from collections import Counter\n",
    "from sklearn.preprocessing import StandardScaler\n",
    "import matplotlib.pyplot as plt\n",
    "from pylab import rcParams\n",
    "\n",
    "rcParams['figure.figsize'] = 14, 6\n",
    "%matplotlib inline"
   ]
  },
  {
   "cell_type": "code",
   "execution_count": 15,
   "id": "9fc9d11c",
   "metadata": {},
   "outputs": [],
   "source": [
    "path = 'openfield-Pranav-2018-08-20'\n",
    "original = f'{path}/labeled-data-correct/m1s1/CollectedData_Pranav.csv'\n",
    "target_csv = f'{path}/labeled-data/m1s1/CollectedData_Pranav.csv'\n",
    "target_h5 = f'{path}/labeled-data/m1s1/CollectedData_Pranav.h5'\n",
    "\n",
    "path_config_file = f'{path}/config.yaml'\n",
    "### read the configure file - config.yaml\n",
    "cfg = deeplabcut.auxiliaryfunctions.read_config(path_config_file)\n",
    "### get the scorer name / bodyparts\n",
    "scorer = cfg['scorer']\n",
    "bodyparts = cfg['bodyparts']"
   ]
  },
  {
   "cell_type": "code",
   "execution_count": 16,
   "id": "a8a3c619",
   "metadata": {},
   "outputs": [],
   "source": [
    "df = pd.read_hdf(r'openfield-Pranav-2018-08-20\\labeled-data\\m1s1\\CollectedData_Pranav.h5')\n",
    "snout = df.xs('snout', level='bodyparts', axis=1).to_numpy()\n",
    "tail = df.xs('tailbase', level='bodyparts', axis=1).to_numpy()\n",
    "diff = (snout-tail).reshape(len(df), -1, 2)\n",
    "dist = np.linalg.norm(diff, axis=2)\n",
    "\n",
    "data = pd.DataFrame(data=dist, index=df.index, columns=None)\n",
    "def clean_dataset(df):\n",
    "    assert isinstance(df, pd.DataFrame), \"df needs to be a pd.DataFrame\"\n",
    "    df.dropna(inplace=True)\n",
    "    indices_to_keep = ~df.isin([np.nan, np.inf, -np.inf]).any(1)\n",
    "    return df[indices_to_keep].astype(np.float64)\n",
    "data = clean_dataset(data)\n",
    "#df.plot()"
   ]
  },
  {
   "cell_type": "code",
   "execution_count": 17,
   "id": "2939a118",
   "metadata": {
    "scrolled": true
   },
   "outputs": [
    {
     "data": {
      "image/png": "[encoded data removed]",
      "text/plain": [
       "<Figure size 432x288 with 1 Axes>"
      ]
     },
     "metadata": {
      "needs_background": "light"
     },
     "output_type": "display_data"
    }
   ],
   "source": [
    "#plotting x and y coordinates of snout and tailbase\n",
    "#snout\n",
    "_ = plt.plot(df.loc[:][(scorer,bodyparts[0],'x')],df.loc[:][(scorer,bodyparts[0], 'y')],marker='.',linewidth=0, color='#128128')\n",
    "_ = plt.grid(which='major',color='#cccccc', alpha = 0.45)\n",
    "_ = plt.title('Snout coordinates of mouse', family='Arial', fontsize=12)\n",
    "_ = plt.xlabel('x')\n",
    "_ = plt.ylabel('y')\n",
    "_ = plt.show()"
   ]
  },
  {
   "cell_type": "markdown",
   "id": "052ab6f1",
   "metadata": {},
   "source": [
    "#### DBSCAN clustering algorithm"
   ]
  },
  {
   "cell_type": "code",
   "execution_count": 18,
   "id": "690e6c77",
   "metadata": {},
   "outputs": [
    {
     "data": {
      "text/plain": [
       "DBSCAN(eps=0.25, min_samples=10)"
      ]
     },
     "execution_count": 18,
     "metadata": {},
     "output_type": "execute_result"
    }
   ],
   "source": [
    "# Prepare data for model\n",
    "dbscan_data = data\n",
    "dbscan_data = dbscan_data.values.astype('float32')\n",
    "\n",
    "# Normalize data\n",
    "dbscan_data_scaler = StandardScaler().fit(dbscan_data)\n",
    "dbscan_data = dbscan_data_scaler.transform(dbscan_data)\n",
    "\n",
    "# Construct model\n",
    "model = DBSCAN(eps=0.25,min_samples=10,metric='euclidean').fit(dbscan_data)\n",
    "model"
   ]
  },
  {
   "cell_type": "code",
   "execution_count": 19,
   "id": "56e0d40e",
   "metadata": {},
   "outputs": [
    {
     "name": "stdout",
     "output_type": "stream",
     "text": [
      "Counter({0: 101, -1: 14})\n",
      "                                        0\n",
      "labeled-data/m1s1/img0040.png  191.769046\n",
      "labeled-data/m1s1/img0041.png  272.033451\n",
      "labeled-data/m1s1/img0050.png  287.014493\n",
      "labeled-data/m1s1/img0061.png   55.937887\n",
      "labeled-data/m1s1/img0067.png  344.745668\n",
      "Numebr of clusters = 1\n"
     ]
    }
   ],
   "source": [
    "# Separate outliers from clustered data\n",
    "outliers_df = data[model.labels_==-1]\n",
    "clusters_df = data[model.labels_!=-1]\n",
    "\n",
    "colors = model.labels_\n",
    "colors_clusters = colors[colors != -1]\n",
    "color_outliers = 'black'\n",
    "\n",
    "# Get info abuot the clusters\n",
    "clusters = Counter(model.labels_)\n",
    "print(clusters)\n",
    "print(data[model.labels_ == -1].head())\n",
    "print('Numebr of clusters = {}'.format(len(clusters)-1))"
   ]
  },
  {
   "cell_type": "code",
   "execution_count": 20,
   "id": "8d323bca",
   "metadata": {},
   "outputs": [
    {
     "data": {
      "image/png": "[encoded data removed]",
      "text/plain": [
       "<Figure size 432x288 with 1 Axes>"
      ]
     },
     "metadata": {
      "needs_background": "light"
     },
     "output_type": "display_data"
    }
   ],
   "source": [
    "# Plot clusters and outliers\n",
    "fig = plt.figure()\n",
    "\n",
    "ax = fig.add_axes([.1,.1,1,1])\n",
    "\n",
    "ax.scatter(clusters_df,clusters_df, edgecolors='black',s=50)\n",
    "ax.scatter(outliers_df,outliers_df, edgecolors='black',s=50)\n",
    "\n",
    "plt.title('Clustered distances between snout and tailbase of mouse', family='Arial',fontsize=12)\n",
    "\n",
    "plt.grid(which='major',color='#cccccc', alpha=0.45)\n",
    "\n",
    "plt.show()"
   ]
  },
  {
   "cell_type": "code",
   "execution_count": 25,
   "id": "1a996a95",
   "metadata": {},
   "outputs": [],
   "source": [
    "# look for frames where bodyparts (like right and left ear) might have been swapped\n",
    "df = pd.read_hdf(r'openfield-Pranav-2018-08-20\\labeled-data\\m1s1\\CollectedData_Pranav.h5')\n",
    "snout = df.xs('snout', level='bodyparts', axis=1).to_numpy()\n",
    "rightear = df.xs('rightear', level='bodyparts', axis=1).to_numpy()\n",
    "leftear = df.xs('leftear', level='bodyparts', axis=1).to_numpy()\n",
    "\n",
    "# calculate the angle \n",
    "def getAngle(a,b,c):\n",
    "    angle = math.degrees(math.atan2(c[1]-b[1],c[0]-b[0]) - math.atan2(a[1]-b[1],a[0]-b[0]))\n",
    "    return angle\n",
    "\n",
    "angles = []\n",
    "swapped_frames = []\n",
    "not_swapped = []\n",
    "for (a,b,c) in zip(leftear,snout,rightear):\n",
    "    angles.append(getAngle(a,b,c))\n",
    "    if getAngle(a,b,c) > 0:\n",
    "        swapped_frames.append(getAngle(a,b,c))\n",
    "    else:\n",
    "        not_swapped.append(getAngle(a,b,c))\n",
    "        \n",
    "#print(swapped_frames)\n",
    "#print(not_swapped)"
   ]
  },
  {
   "cell_type": "code",
   "execution_count": 28,
   "id": "a3ebc869",
   "metadata": {},
   "outputs": [],
   "source": [
    "data = pd.DataFrame(data=angles, index=df.index, columns=None)\n",
    "def clean_dataset(df):\n",
    "    assert isinstance(df, pd.DataFrame), \"df needs to be a pd.DataFrame\"\n",
    "    df.dropna(inplace=True)\n",
    "    indices_to_keep = ~df.isin([np.nan, np.inf, -np.inf]).any(1)\n",
    "    return df[indices_to_keep].astype(np.float64)\n",
    "data = clean_dataset(data)"
   ]
  },
  {
   "cell_type": "code",
   "execution_count": 29,
   "id": "84278724",
   "metadata": {},
   "outputs": [
    {
     "data": {
      "text/plain": [
       "DBSCAN(eps=0.25, min_samples=10)"
      ]
     },
     "execution_count": 29,
     "metadata": {},
     "output_type": "execute_result"
    }
   ],
   "source": [
    "# Prepare data for model\n",
    "dbscan_data = data\n",
    "dbscan_data = dbscan_data.values.astype('float32')\n",
    "\n",
    "# Normalize data\n",
    "dbscan_data_scaler = StandardScaler().fit(dbscan_data)\n",
    "dbscan_data = dbscan_data_scaler.transform(dbscan_data)\n",
    "\n",
    "# Construct model\n",
    "model = DBSCAN(eps=0.25,min_samples=10,metric='euclidean').fit(dbscan_data)\n",
    "model"
   ]
  },
  {
   "cell_type": "code",
   "execution_count": 30,
   "id": "ed5bebfa",
   "metadata": {},
   "outputs": [
    {
     "name": "stdout",
     "output_type": "stream",
     "text": [
      "Counter({0: 87, -1: 16, 1: 12})\n",
      "                                      0\n",
      "labeled-data/m1s1/img0040.png -8.694378\n",
      "labeled-data/m1s1/img0041.png -0.460658\n",
      "labeled-data/m1s1/img0047.png  2.505375\n",
      "labeled-data/m1s1/img0050.png -9.683654\n",
      "labeled-data/m1s1/img0061.png -0.834040\n",
      "Numebr of clusters = 2\n"
     ]
    }
   ],
   "source": [
    "# Separate outliers from clustered data\n",
    "outliers_df = data[model.labels_==-1]\n",
    "clusters_df = data[model.labels_!=-1]\n",
    "\n",
    "colors = model.labels_\n",
    "colors_clusters = colors[colors != -1]\n",
    "color_outliers = 'black'\n",
    "\n",
    "# Get info abuot the clusters\n",
    "clusters = Counter(model.labels_)\n",
    "print(clusters)\n",
    "print(data[model.labels_ == -1].head())\n",
    "print('Numebr of clusters = {}'.format(len(clusters)-1))"
   ]
  },
  {
   "cell_type": "code",
   "execution_count": 31,
   "id": "d87589d9",
   "metadata": {},
   "outputs": [
    {
     "data": {
      "image/png": "[encoded data removed]",
      "text/plain": [
       "<Figure size 432x288 with 1 Axes>"
      ]
     },
     "metadata": {
      "needs_background": "light"
     },
     "output_type": "display_data"
    }
   ],
   "source": [
    "# Plot clusters and outliers\n",
    "fig = plt.figure()\n",
    "\n",
    "ax = fig.add_axes([.1,.1,1,1])\n",
    "\n",
    "ax.scatter(clusters_df,clusters_df, edgecolors='black',s=50)\n",
    "ax.scatter(outliers_df,outliers_df, edgecolors='black',s=50)\n",
    "\n",
    "plt.title('Clustered distances between snout and tailbase of mouse', family='Arial',fontsize=12)\n",
    "\n",
    "plt.grid(which='major',color='#cccccc', alpha=0.45)\n",
    "\n",
    "plt.show()"
   ]
  },
  {
   "cell_type": "code",
   "execution_count": null,
   "id": "29caeb1a",
   "metadata": {},
   "outputs": [],
   "source": []
  },
  {
   "cell_type": "code",
   "execution_count": null,
   "id": "b6e37bc7",
   "metadata": {},
   "outputs": [],
   "source": []
  }
 ],
 "metadata": {
  "kernelspec": {
   "display_name": "Python [conda env:DEEPLABCUT] *",
   "language": "python",
   "name": "conda-env-DEEPLABCUT-py"
  },
  "language_info": {
   "codemirror_mode": {
    "name": "ipython",
    "version": 3
   },
   "file_extension": ".py",
   "mimetype": "text/x-python",
   "name": "python",
   "nbconvert_exporter": "python",
   "pygments_lexer": "ipython3",
   "version": "3.7.10"
  }
 },
 "nbformat": 4,
 "nbformat_minor": 5
}
