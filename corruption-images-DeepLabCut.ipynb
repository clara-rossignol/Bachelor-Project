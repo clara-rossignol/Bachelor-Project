{
 "cells": [
  {
   "cell_type": "markdown",
   "metadata": {},
   "source": [
    "### Corrupting collected data "
   ]
  },
  {
   "cell_type": "code",
   "execution_count": 499,
   "metadata": {},
   "outputs": [],
   "source": [
    "import pandas as pd\n",
    "import numpy as np\n",
    "import csv\n",
    "import shutil\n",
    "import random\n",
    "import re"
   ]
  },
  {
   "cell_type": "code",
   "execution_count": 507,
   "metadata": {},
   "outputs": [
    {
     "data": {
      "text/plain": [
       "\"\\n# read the csv file\\ndf = pd.read_csv(r'..\\\\openfield-Pranav-2018-08-20\\\\labeled-data-correct\\\\m1s1\\\\CollectedData_Pranav.csv')\\nprint(df)\\n\\ndf = df[2:] # we don't want later to select one of the 3 first rows as they're not data\\n\\n# randomly select 10 rows of data\\ndata = df.sample(n = 10).sort_index()\\n\""
      ]
     },
     "execution_count": 507,
     "metadata": {},
     "output_type": "execute_result"
    }
   ],
   "source": [
    "'''\n",
    "# read the csv file\n",
    "df = pd.read_csv(r'..\\openfield-Pranav-2018-08-20\\labeled-data-correct\\m1s1\\CollectedData_Pranav.csv')\n",
    "print(df)\n",
    "\n",
    "df = df[2:] # we don't want later to select one of the 3 first rows as they're not data\n",
    "\n",
    "# randomly select 10 rows of data\n",
    "data = df.sample(n = 10).sort_index()\n",
    "'''"
   ]
  },
  {
   "cell_type": "code",
   "execution_count": 500,
   "metadata": {},
   "outputs": [],
   "source": [
    "'''\n",
    "import deeplabcut\n",
    "\n",
    "cfg = deeplabcut.auxiliaryfunctions.read_config(r'..\\openfield-Pranav-2018-08-20\\config.yaml')\n",
    "scorer = cfg['scorer']\n",
    "odyparts = cfg['bodyparts']\n",
    "#columnindex = pd.MultiIndex.from_product([[scorer], bodyparts, ['x', 'y']], names=['scorer', 'bodyparts', 'coords'])\n",
    "\n",
    "# assign random values to later replace the data\n",
    "corruptedData = pd.DataFrame(np.random.rand(10, 8) * 500, columns=columnindex).astype(object)\n",
    "corruptedData.index = data.index\n",
    "corruptedData.insert(0, \"0\", data.iloc[:,0])\n",
    "corruptedData.columns = [\"0\", \"1\",\"2\", \"3\",\"4\",\"5\",\"6\",\"7\",\"8\"]\n",
    "\n",
    "\n",
    "# we want to know which images have been corrupted to later on analyse them\n",
    "corruptedImages = corruptedData.index - 3\n",
    "\n",
    "print(corruptedData)\n",
    "print(corruptedImages)\n",
    "#corruptedData.dtypes\n",
    "'''"
   ]
  },
  {
   "cell_type": "code",
   "execution_count": 508,
   "metadata": {},
   "outputs": [],
   "source": [
    "original = r'..\\openfield-Pranav-2018-08-20\\labeled-data-correct\\m1s1\\CollectedData_Pranav.csv'\n",
    "target = r'..\\openfield-Pranav-2018-08-20\\labeled-data\\m1s1\\CollectedData_Pranav.csv'\n",
    "shutil.copyfile(original, target)\n",
    "\n",
    "df = pd.read_csv(r'..\\openfield-Pranav-2018-08-20\\labeled-data\\m1s1\\CollectedData_Pranav.csv')\n",
    "\n",
    "columns = df.columns.tolist()\n",
    "columns.pop(0)\n",
    "\n",
    "filename = df.loc[:,\"scorer\"].tolist()\n",
    "filename.pop(0);filename.pop(0)\n",
    "\n",
    "random.shuffle(filename)\n",
    "\n",
    "for name in filename[:10]:\n",
    "    string = \"\".join(re.findall(r'\\d',name))\n",
    "    id = int(string[2:])\n",
    "    for column in columns:\n",
    "        df.iloc[id][column] = np.random.uniform(5,500)\n",
    "\n",
    "df.to_csv(r'..\\openfield-Pranav-2018-08-20\\labeled-data\\m1s1\\CollectedData_Pranav.csv', index = False)\n",
    "df.astype(str).to_hdf(r'..\\openfield-Pranav-2018-08-20\\labeled-data\\m1s1\\CollectedData_Pranav.h5',  \"df_with_missing\", format=\"table\",mode=\"w\")"
   ]
  },
  {
   "cell_type": "code",
   "execution_count": 502,
   "metadata": {
    "scrolled": false
   },
   "outputs": [
    {
     "data": {
      "text/plain": [
       "'\\noriginal = r\\'..\\\\openfield-Pranav-2018-08-20\\\\labeled-data-correct\\\\m1s1\\\\CollectedData_Pranav.csv\\'\\ntarget = r\\'..\\\\openfield-Pranav-2018-08-20\\\\labeled-data\\\\m1s1\\\\CollectedData_Pranav.csv\\'\\nshutil.copyfile(original, target)\\n\\ndf = pd.read_csv(r\\'..\\\\openfield-Pranav-2018-08-20\\\\labeled-data\\\\m1s1\\\\CollectedData_Pranav.csv\\', header = None)\\n\\nprint(df.columns)\\ndf.iloc[corruptedData.index,:] = corruptedData[:]\\nprint(df.head(10\\n             ))\\n# swap left and right ear for some of the data (maybe find better way to do this, def f?)\\nswappedEars = random.sample(range(5, 100), 5)\\nswappedEars[:] = [number - 3 for number in swappedEars] # we want the right image number\\nprint(swappedEars)\\n\\ndef swapData(df, sample, i, j):\\n    tmp = df.iloc[sample, i]\\n    df.loc[sample, i] = df.loc[sample, j]\\n    df.loc[sample, j] = tmp\\n    return df\\n\\ndf = swapData(df,swappedEars,3,5)\\ndf = swapData(df,swappedEars,4,6)\\nprint(df.columns)\\ndf.to_csv(r\\'..\\\\openfield-Pranav-2018-08-20\\\\labeled-data\\\\m1s1\\\\CollectedData_Pranav.csv\\', index = False)\\ndf.astype(str).to_hdf(r\\'..\\\\openfield-Pranav-2018-08-20\\\\labeled-data\\\\m1s1\\\\CollectedData_Pranav.h5\\',  \"df_with_missing\", format=\"table\",mode=\"w\")\\n'"
      ]
     },
     "execution_count": 502,
     "metadata": {},
     "output_type": "execute_result"
    }
   ],
   "source": [
    "# replace in a new file the correct values with the corrupted ones\n",
    "\"\"\"\n",
    "original = r'..\\openfield-Pranav-2018-08-20\\labeled-data-correct\\m1s1\\CollectedData_Pranav.csv'\n",
    "target = r'..\\openfield-Pranav-2018-08-20\\labeled-data\\m1s1\\CollectedData_Pranav.csv'\n",
    "shutil.copyfile(original, target)\n",
    "\n",
    "df = pd.read_csv(r'..\\openfield-Pranav-2018-08-20\\labeled-data\\m1s1\\CollectedData_Pranav.csv', header = None)\n",
    "\n",
    "print(df.columns)\n",
    "df.iloc[corruptedData.index,:] = corruptedData[:]\n",
    "print(df.head(10\n",
    "             ))\n",
    "# swap left and right ear for some of the data (maybe find better way to do this, def f?)\n",
    "swappedEars = random.sample(range(5, 100), 5)\n",
    "swappedEars[:] = [number - 3 for number in swappedEars] # we want the right image number\n",
    "print(swappedEars)\n",
    "\n",
    "def swapData(df, sample, i, j):\n",
    "    tmp = df.iloc[sample, i]\n",
    "    df.loc[sample, i] = df.loc[sample, j]\n",
    "    df.loc[sample, j] = tmp\n",
    "    return df\n",
    "\n",
    "df = swapData(df,swappedEars,3,5)\n",
    "df = swapData(df,swappedEars,4,6)\n",
    "print(df.columns)\n",
    "df.to_csv(r'..\\openfield-Pranav-2018-08-20\\labeled-data\\m1s1\\CollectedData_Pranav.csv', index = False)\n",
    "df.astype(str).to_hdf(r'..\\openfield-Pranav-2018-08-20\\labeled-data\\m1s1\\CollectedData_Pranav.h5',  \"df_with_missing\", format=\"table\",mode=\"w\")\n",
    "\"\"\""
   ]
  },
  {
   "cell_type": "code",
   "execution_count": 503,
   "metadata": {},
   "outputs": [],
   "source": [
    "#bodyparts = df.columns\n",
    "#bodyparts"
   ]
  },
  {
   "cell_type": "code",
   "execution_count": 504,
   "metadata": {
    "scrolled": false
   },
   "outputs": [
    {
     "name": "stdout",
     "output_type": "stream",
     "text": [
      "Creating images with labels by Pranav.\n"
     ]
    },
    {
     "ename": "KeyError",
     "evalue": "'Requested level (bodyparts) does not match index name (None)'",
     "output_type": "error",
     "traceback": [
      "\u001b[1;31m---------------------------------------------------------------------------\u001b[0m",
      "\u001b[1;31mKeyError\u001b[0m                                  Traceback (most recent call last)",
      "\u001b[1;32m<ipython-input-504-2106a7d28548>\u001b[0m in \u001b[0;36m<module>\u001b[1;34m\u001b[0m\n\u001b[0;32m      2\u001b[0m \u001b[1;33m\u001b[0m\u001b[0m\n\u001b[0;32m      3\u001b[0m \u001b[1;31m#check correct labels using deeplabcut check_labels\u001b[0m\u001b[1;33m\u001b[0m\u001b[1;33m\u001b[0m\u001b[1;33m\u001b[0m\u001b[0m\n\u001b[1;32m----> 4\u001b[1;33m \u001b[0mdeeplabcut\u001b[0m\u001b[1;33m.\u001b[0m\u001b[0mcheck_labels\u001b[0m\u001b[1;33m(\u001b[0m\u001b[1;34mr'..\\openfield-Pranav-2018-08-20\\config.yaml'\u001b[0m\u001b[1;33m)\u001b[0m\u001b[1;33m\u001b[0m\u001b[1;33m\u001b[0m\u001b[0m\n\u001b[0m",
      "\u001b[1;32m~\\anaconda3\\envs\\DEEPLABCUT\\lib\\site-packages\\deeplabcut\\generate_training_dataset\\trainingsetmanipulation.py\u001b[0m in \u001b[0;36mcheck_labels\u001b[1;34m(config, Labels, scale, dpi, draw_skeleton, visualizeindividuals)\u001b[0m\n\u001b[0;32m    479\u001b[0m                 \u001b[0mkeypoint\u001b[0m\u001b[1;33m=\u001b[0m\u001b[0mLabels\u001b[0m\u001b[1;33m[\u001b[0m\u001b[1;36m0\u001b[0m\u001b[1;33m]\u001b[0m\u001b[1;33m,\u001b[0m\u001b[1;33m\u001b[0m\u001b[1;33m\u001b[0m\u001b[0m\n\u001b[0;32m    480\u001b[0m                 \u001b[0mdraw_skeleton\u001b[0m\u001b[1;33m=\u001b[0m\u001b[0mdraw_skeleton\u001b[0m\u001b[1;33m,\u001b[0m\u001b[1;33m\u001b[0m\u001b[1;33m\u001b[0m\u001b[0m\n\u001b[1;32m--> 481\u001b[1;33m                 \u001b[0mcolor_by\u001b[0m\u001b[1;33m=\u001b[0m\u001b[0mcolor_by\u001b[0m\u001b[1;33m,\u001b[0m\u001b[1;33m\u001b[0m\u001b[1;33m\u001b[0m\u001b[0m\n\u001b[0m\u001b[0;32m    482\u001b[0m             )\n\u001b[0;32m    483\u001b[0m         \u001b[1;32mexcept\u001b[0m \u001b[0mFileNotFoundError\u001b[0m\u001b[1;33m:\u001b[0m\u001b[1;33m\u001b[0m\u001b[1;33m\u001b[0m\u001b[0m\n",
      "\u001b[1;32m~\\anaconda3\\envs\\DEEPLABCUT\\lib\\site-packages\\deeplabcut\\utils\\visualization.py\u001b[0m in \u001b[0;36mmake_labeled_images_from_dataframe\u001b[1;34m(df, cfg, destfolder, scale, dpi, keypoint, draw_skeleton, color_by)\u001b[0m\n\u001b[0;32m    230\u001b[0m     \"\"\"\n\u001b[0;32m    231\u001b[0m \u001b[1;33m\u001b[0m\u001b[0m\n\u001b[1;32m--> 232\u001b[1;33m     \u001b[0mbodyparts\u001b[0m \u001b[1;33m=\u001b[0m \u001b[0mdf\u001b[0m\u001b[1;33m.\u001b[0m\u001b[0mcolumns\u001b[0m\u001b[1;33m.\u001b[0m\u001b[0mget_level_values\u001b[0m\u001b[1;33m(\u001b[0m\u001b[1;34m\"bodyparts\"\u001b[0m\u001b[1;33m)\u001b[0m\u001b[1;33m\u001b[0m\u001b[1;33m\u001b[0m\u001b[0m\n\u001b[0m\u001b[0;32m    233\u001b[0m     \u001b[0mbodypart_names\u001b[0m \u001b[1;33m=\u001b[0m \u001b[0mbodyparts\u001b[0m\u001b[1;33m.\u001b[0m\u001b[0munique\u001b[0m\u001b[1;33m(\u001b[0m\u001b[1;33m)\u001b[0m\u001b[1;33m\u001b[0m\u001b[1;33m\u001b[0m\u001b[0m\n\u001b[0;32m    234\u001b[0m     \u001b[0mnbodyparts\u001b[0m \u001b[1;33m=\u001b[0m \u001b[0mlen\u001b[0m\u001b[1;33m(\u001b[0m\u001b[0mbodypart_names\u001b[0m\u001b[1;33m)\u001b[0m\u001b[1;33m\u001b[0m\u001b[1;33m\u001b[0m\u001b[0m\n",
      "\u001b[1;32m~\\anaconda3\\envs\\DEEPLABCUT\\lib\\site-packages\\pandas\\core\\indexes\\base.py\u001b[0m in \u001b[0;36m_get_level_values\u001b[1;34m(self, level)\u001b[0m\n\u001b[0;32m   1805\u001b[0m         \u001b[0mIndex\u001b[0m\u001b[1;33m(\u001b[0m\u001b[1;33m[\u001b[0m\u001b[1;34m'a'\u001b[0m\u001b[1;33m,\u001b[0m \u001b[1;34m'b'\u001b[0m\u001b[1;33m,\u001b[0m \u001b[1;34m'c'\u001b[0m\u001b[1;33m]\u001b[0m\u001b[1;33m,\u001b[0m \u001b[0mdtype\u001b[0m\u001b[1;33m=\u001b[0m\u001b[1;34m'object'\u001b[0m\u001b[1;33m)\u001b[0m\u001b[1;33m\u001b[0m\u001b[1;33m\u001b[0m\u001b[0m\n\u001b[0;32m   1806\u001b[0m         \"\"\"\n\u001b[1;32m-> 1807\u001b[1;33m         \u001b[0mself\u001b[0m\u001b[1;33m.\u001b[0m\u001b[0m_validate_index_level\u001b[0m\u001b[1;33m(\u001b[0m\u001b[0mlevel\u001b[0m\u001b[1;33m)\u001b[0m\u001b[1;33m\u001b[0m\u001b[1;33m\u001b[0m\u001b[0m\n\u001b[0m\u001b[0;32m   1808\u001b[0m         \u001b[1;32mreturn\u001b[0m \u001b[0mself\u001b[0m\u001b[1;33m\u001b[0m\u001b[1;33m\u001b[0m\u001b[0m\n\u001b[0;32m   1809\u001b[0m \u001b[1;33m\u001b[0m\u001b[0m\n",
      "\u001b[1;32m~\\anaconda3\\envs\\DEEPLABCUT\\lib\\site-packages\\pandas\\core\\indexes\\base.py\u001b[0m in \u001b[0;36m_validate_index_level\u001b[1;34m(self, level)\u001b[0m\n\u001b[0;32m   1729\u001b[0m         \u001b[1;32melif\u001b[0m \u001b[0mlevel\u001b[0m \u001b[1;33m!=\u001b[0m \u001b[0mself\u001b[0m\u001b[1;33m.\u001b[0m\u001b[0mname\u001b[0m\u001b[1;33m:\u001b[0m\u001b[1;33m\u001b[0m\u001b[1;33m\u001b[0m\u001b[0m\n\u001b[0;32m   1730\u001b[0m             raise KeyError(\n\u001b[1;32m-> 1731\u001b[1;33m                 \u001b[1;34mf\"Requested level ({level}) does not match index name ({self.name})\"\u001b[0m\u001b[1;33m\u001b[0m\u001b[1;33m\u001b[0m\u001b[0m\n\u001b[0m\u001b[0;32m   1732\u001b[0m             )\n\u001b[0;32m   1733\u001b[0m \u001b[1;33m\u001b[0m\u001b[0m\n",
      "\u001b[1;31mKeyError\u001b[0m: 'Requested level (bodyparts) does not match index name (None)'"
     ]
    }
   ],
   "source": [
    "import deeplabcut\n",
    "\n",
    "#check correct labels using deeplabcut check_labels\n",
    "deeplabcut.check_labels(r'..\\openfield-Pranav-2018-08-20\\config.yaml')"
   ]
  },
  {
   "cell_type": "code",
   "execution_count": null,
   "metadata": {},
   "outputs": [],
   "source": []
  },
  {
   "cell_type": "code",
   "execution_count": 505,
   "metadata": {},
   "outputs": [
    {
     "data": {
      "text/plain": [
       "'\"\\n# look for frames that have abnormal distances between bodyparts (here snout and tail)\\ntreshold = 100\\ndf = pd.read_hdf(\\'..\\\\openfield-Pranav-2018-08-20\\\\labeled-data\\\\m1s1\\\\CollectedData_Pranav.h5\\',key=\\'\\')\\nsnout = df.xs(\\'snout\\', level=\\'bodyparts\\', axis=1).to_numpy()\\ntail = df.xs(\\'tail\\', level=\\'bodyparts\\', axis=1).to_numpy()\\ndiff = (snout-tail).reshape(len(df), -1, 2)\\ndist = np.linalg.norm(diff, axis=2)\\nmask = np.any(dist >= treshold, axis=1)\\nabnormalFrames = df.iloc[mask].index\\nprint(abnormalFrames)\\n'"
      ]
     },
     "execution_count": 505,
     "metadata": {},
     "output_type": "execute_result"
    }
   ],
   "source": [
    "\"\"\"\"\n",
    "# look for frames that have abnormal distances between bodyparts (here snout and tail)\n",
    "treshold = 100\n",
    "df = pd.read_hdf('..\\openfield-Pranav-2018-08-20\\labeled-data\\m1s1\\CollectedData_Pranav.h5',key='')\n",
    "snout = df.xs('snout', level='bodyparts', axis=1).to_numpy()\n",
    "tail = df.xs('tail', level='bodyparts', axis=1).to_numpy()\n",
    "diff = (snout-tail).reshape(len(df), -1, 2)\n",
    "dist = np.linalg.norm(diff, axis=2)\n",
    "mask = np.any(dist >= treshold, axis=1)\n",
    "abnormalFrames = df.iloc[mask].index\n",
    "print(abnormalFrames)\n",
    "\"\"\""
   ]
  },
  {
   "cell_type": "code",
   "execution_count": 506,
   "metadata": {},
   "outputs": [],
   "source": [
    "# look for frames where bodyparts (like right and left ear) might have been swapped\n"
   ]
  },
  {
   "cell_type": "code",
   "execution_count": null,
   "metadata": {},
   "outputs": [],
   "source": []
  }
 ],
 "metadata": {
  "kernelspec": {
   "display_name": "Python [conda env:DEEPLABCUT] *",
   "language": "python",
   "name": "conda-env-DEEPLABCUT-py"
  },
  "language_info": {
   "codemirror_mode": {
    "name": "ipython",
    "version": 3
   },
   "file_extension": ".py",
   "mimetype": "text/x-python",
   "name": "python",
   "nbconvert_exporter": "python",
   "pygments_lexer": "ipython3",
   "version": "3.7.10"
  }
 },
 "nbformat": 4,
 "nbformat_minor": 4
}
